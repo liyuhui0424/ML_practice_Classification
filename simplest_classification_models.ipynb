{
 "cells": [
  {
   "cell_type": "markdown",
   "metadata": {},
   "source": [
    "## From this notebook, we are going to build classification models."
   ]
  },
  {
   "cell_type": "code",
   "execution_count": 1,
   "metadata": {},
   "outputs": [],
   "source": [
    "import pandas as pd"
   ]
  },
  {
   "cell_type": "code",
   "execution_count": 2,
   "metadata": {},
   "outputs": [],
   "source": [
    "df = pd.read_csv('../data/sales.csv')\n",
    "df.dropna(subset=['price'], inplace=True)"
   ]
  },
  {
   "cell_type": "code",
   "execution_count": 3,
   "metadata": {},
   "outputs": [],
   "source": [
    "df['year'] = pd.to_datetime(df.purchase_date).dt.year\n",
    "train_raw = df[df.year < 2015]\n",
    "test_raw = df[df.year >= 2015]"
   ]
  },
  {
   "cell_type": "code",
   "execution_count": 14,
   "metadata": {},
   "outputs": [
    {
     "data": {
      "text/html": [
       "<div>\n",
       "<style scoped>\n",
       "    .dataframe tbody tr th:only-of-type {\n",
       "        vertical-align: middle;\n",
       "    }\n",
       "\n",
       "    .dataframe tbody tr th {\n",
       "        vertical-align: top;\n",
       "    }\n",
       "\n",
       "    .dataframe thead th {\n",
       "        text-align: right;\n",
       "    }\n",
       "</style>\n",
       "<table border=\"1\" class=\"dataframe\">\n",
       "  <thead>\n",
       "    <tr style=\"text-align: right;\">\n",
       "      <th></th>\n",
       "      <th>cost</th>\n",
       "      <th>price</th>\n",
       "      <th>weight</th>\n",
       "      <th>purchase_date</th>\n",
       "      <th>product_type</th>\n",
       "      <th>product_level</th>\n",
       "      <th>maker</th>\n",
       "      <th>ingredient</th>\n",
       "      <th>height</th>\n",
       "      <th>width</th>\n",
       "      <th>depth</th>\n",
       "      <th>year</th>\n",
       "    </tr>\n",
       "  </thead>\n",
       "  <tbody>\n",
       "    <tr>\n",
       "      <th>0</th>\n",
       "      <td>$333k</td>\n",
       "      <td>$300,492</td>\n",
       "      <td>3 Ton 90 Kg</td>\n",
       "      <td>Dec 19 2008</td>\n",
       "      <td>Q,B</td>\n",
       "      <td>advanced</td>\n",
       "      <td>M14122</td>\n",
       "      <td>IN732052,IN732053</td>\n",
       "      <td>2.76 meters</td>\n",
       "      <td>97 cm</td>\n",
       "      <td>26 cm</td>\n",
       "      <td>2008</td>\n",
       "    </tr>\n",
       "    <tr>\n",
       "      <th>1</th>\n",
       "      <td>NaN</td>\n",
       "      <td>$430,570</td>\n",
       "      <td>3 Ton 30 Kg</td>\n",
       "      <td>Sep 10 1997</td>\n",
       "      <td>J,D</td>\n",
       "      <td>basic</td>\n",
       "      <td>NaN</td>\n",
       "      <td>IN732054,IN732055,IN732056,IN732057,IN732058</td>\n",
       "      <td>2.67 meters</td>\n",
       "      <td>98 cm</td>\n",
       "      <td>26 cm</td>\n",
       "      <td>1997</td>\n",
       "    </tr>\n",
       "    <tr>\n",
       "      <th>2</th>\n",
       "      <td>$270k</td>\n",
       "      <td>$213,070</td>\n",
       "      <td>3 Ton 40 Kg</td>\n",
       "      <td>Sep 05 2001</td>\n",
       "      <td>J,D</td>\n",
       "      <td>basic</td>\n",
       "      <td>NaN</td>\n",
       "      <td>IN732054,IN732059,IN732060</td>\n",
       "      <td>3.0 meters</td>\n",
       "      <td>93 cm</td>\n",
       "      <td>24 cm</td>\n",
       "      <td>2001</td>\n",
       "    </tr>\n",
       "    <tr>\n",
       "      <th>4</th>\n",
       "      <td>$97k</td>\n",
       "      <td>$122,659</td>\n",
       "      <td>2 Ton 970 Kg</td>\n",
       "      <td>Jan 12 2000</td>\n",
       "      <td>D,R</td>\n",
       "      <td>advanced</td>\n",
       "      <td>NaN</td>\n",
       "      <td>IN732064,IN732065,IN732066</td>\n",
       "      <td>2.47 meters</td>\n",
       "      <td>101 cm</td>\n",
       "      <td>26 cm</td>\n",
       "      <td>2000</td>\n",
       "    </tr>\n",
       "    <tr>\n",
       "      <th>5</th>\n",
       "      <td>$59k</td>\n",
       "      <td>$60,320</td>\n",
       "      <td>2 Ton 930 Kg</td>\n",
       "      <td>Aug 19 2011</td>\n",
       "      <td>H</td>\n",
       "      <td>super advanced</td>\n",
       "      <td>M14124</td>\n",
       "      <td>IN732067,IN732068,IN732069,IN732070,IN732071,I...</td>\n",
       "      <td>2.71 meters</td>\n",
       "      <td>96 cm</td>\n",
       "      <td>25 cm</td>\n",
       "      <td>2011</td>\n",
       "    </tr>\n",
       "    <tr>\n",
       "      <th>6</th>\n",
       "      <td>NaN</td>\n",
       "      <td>$182,233</td>\n",
       "      <td>3 Ton 300 Kg</td>\n",
       "      <td>Oct 11 1996</td>\n",
       "      <td>S</td>\n",
       "      <td>super advanced</td>\n",
       "      <td>M14125</td>\n",
       "      <td>IN732073,IN732074</td>\n",
       "      <td>3.01 meters</td>\n",
       "      <td>96 cm</td>\n",
       "      <td>25 cm</td>\n",
       "      <td>1996</td>\n",
       "    </tr>\n",
       "    <tr>\n",
       "      <th>7</th>\n",
       "      <td>NaN</td>\n",
       "      <td>$41,155</td>\n",
       "      <td>3 Ton 80 Kg</td>\n",
       "      <td>Jan 08 2010</td>\n",
       "      <td>B,A</td>\n",
       "      <td>advanced</td>\n",
       "      <td>M14126</td>\n",
       "      <td>IN732075</td>\n",
       "      <td>2.97 meters</td>\n",
       "      <td>94 cm</td>\n",
       "      <td>25 cm</td>\n",
       "      <td>2010</td>\n",
       "    </tr>\n",
       "    <tr>\n",
       "      <th>8</th>\n",
       "      <td>$66k</td>\n",
       "      <td>$180,759</td>\n",
       "      <td>3 Ton 330 Kg</td>\n",
       "      <td>Aug 01 2014</td>\n",
       "      <td>H</td>\n",
       "      <td>super advanced</td>\n",
       "      <td>NaN</td>\n",
       "      <td>IN732076,IN732077,IN732073,IN732078,IN732079,I...</td>\n",
       "      <td>2.71 meters</td>\n",
       "      <td>102 cm</td>\n",
       "      <td>27 cm</td>\n",
       "      <td>2014</td>\n",
       "    </tr>\n",
       "    <tr>\n",
       "      <th>9</th>\n",
       "      <td>$119k</td>\n",
       "      <td>$182,517</td>\n",
       "      <td>2 Ton 970 Kg</td>\n",
       "      <td>Feb 04 2005</td>\n",
       "      <td>K,D</td>\n",
       "      <td>advanced</td>\n",
       "      <td>M14127</td>\n",
       "      <td>IN732085,IN732086,IN732087</td>\n",
       "      <td>2.84 meters</td>\n",
       "      <td>94 cm</td>\n",
       "      <td>25 cm</td>\n",
       "      <td>2005</td>\n",
       "    </tr>\n",
       "    <tr>\n",
       "      <th>11</th>\n",
       "      <td>$81k</td>\n",
       "      <td>$228,868</td>\n",
       "      <td>2 Ton 940 Kg</td>\n",
       "      <td>Apr 04 2008</td>\n",
       "      <td>N</td>\n",
       "      <td>advanced</td>\n",
       "      <td>M14129</td>\n",
       "      <td>IN732093,IN732094,IN732095,IN732096</td>\n",
       "      <td>2.52 meters</td>\n",
       "      <td>99 cm</td>\n",
       "      <td>26 cm</td>\n",
       "      <td>2008</td>\n",
       "    </tr>\n",
       "    <tr>\n",
       "      <th>12</th>\n",
       "      <td>$191k</td>\n",
       "      <td>$79,384</td>\n",
       "      <td>3 Ton 200 Kg</td>\n",
       "      <td>Dec 21 2001</td>\n",
       "      <td>U</td>\n",
       "      <td>super advanced</td>\n",
       "      <td>M14130</td>\n",
       "      <td>IN732097,IN732098,IN732099,IN732100,IN732101</td>\n",
       "      <td>2.87 meters</td>\n",
       "      <td>97 cm</td>\n",
       "      <td>25 cm</td>\n",
       "      <td>2001</td>\n",
       "    </tr>\n",
       "    <tr>\n",
       "      <th>13</th>\n",
       "      <td>NaN</td>\n",
       "      <td>$118,628</td>\n",
       "      <td>3 Ton 50 Kg</td>\n",
       "      <td>Dec 15 2006</td>\n",
       "      <td>U,A</td>\n",
       "      <td>advanced</td>\n",
       "      <td>M14131</td>\n",
       "      <td>IN732074,IN732102</td>\n",
       "      <td>2.63 meters</td>\n",
       "      <td>99 cm</td>\n",
       "      <td>26 cm</td>\n",
       "      <td>2006</td>\n",
       "    </tr>\n",
       "    <tr>\n",
       "      <th>14</th>\n",
       "      <td>NaN</td>\n",
       "      <td>$204,305</td>\n",
       "      <td>3 Ton 20 Kg</td>\n",
       "      <td>Jan 29 2010</td>\n",
       "      <td>K,D</td>\n",
       "      <td>advanced</td>\n",
       "      <td>M14132</td>\n",
       "      <td>IN732103,IN732104,IN732105,IN732106</td>\n",
       "      <td>2.54 meters</td>\n",
       "      <td>100 cm</td>\n",
       "      <td>26 cm</td>\n",
       "      <td>2010</td>\n",
       "    </tr>\n",
       "    <tr>\n",
       "      <th>15</th>\n",
       "      <td>NaN</td>\n",
       "      <td>$20,711</td>\n",
       "      <td>3 Ton 190 Kg</td>\n",
       "      <td>May 13 1998</td>\n",
       "      <td>H</td>\n",
       "      <td>super advanced</td>\n",
       "      <td>M14133</td>\n",
       "      <td>IN732094</td>\n",
       "      <td>2.96 meters</td>\n",
       "      <td>96 cm</td>\n",
       "      <td>25 cm</td>\n",
       "      <td>1998</td>\n",
       "    </tr>\n",
       "    <tr>\n",
       "      <th>16</th>\n",
       "      <td>$22k</td>\n",
       "      <td>$24,246</td>\n",
       "      <td>3 Ton 10 Kg</td>\n",
       "      <td>Dec 10 1999</td>\n",
       "      <td>D</td>\n",
       "      <td>super advanced</td>\n",
       "      <td>NaN</td>\n",
       "      <td>IN732107,IN732108,IN732109,IN732110,IN732111</td>\n",
       "      <td>2.55 meters</td>\n",
       "      <td>100 cm</td>\n",
       "      <td>26 cm</td>\n",
       "      <td>1999</td>\n",
       "    </tr>\n",
       "    <tr>\n",
       "      <th>17</th>\n",
       "      <td>$631k</td>\n",
       "      <td>$524,575</td>\n",
       "      <td>3 Ton 580 Kg</td>\n",
       "      <td>Aug 27 2010</td>\n",
       "      <td>H,A</td>\n",
       "      <td>advanced</td>\n",
       "      <td>M14122</td>\n",
       "      <td>IN732076,IN732093,IN732112,IN732113,IN732114,I...</td>\n",
       "      <td>2.87 meters</td>\n",
       "      <td>103 cm</td>\n",
       "      <td>27 cm</td>\n",
       "      <td>2010</td>\n",
       "    </tr>\n",
       "    <tr>\n",
       "      <th>18</th>\n",
       "      <td>NaN</td>\n",
       "      <td>$107,802</td>\n",
       "      <td>2 Ton 890 Kg</td>\n",
       "      <td>Apr 26 2013</td>\n",
       "      <td>G</td>\n",
       "      <td>intermediate</td>\n",
       "      <td>M14134,M14135</td>\n",
       "      <td>NaN</td>\n",
       "      <td>2.13 meters</td>\n",
       "      <td>107 cm</td>\n",
       "      <td>28 cm</td>\n",
       "      <td>2013</td>\n",
       "    </tr>\n",
       "    <tr>\n",
       "      <th>19</th>\n",
       "      <td>$113k</td>\n",
       "      <td>$257,688</td>\n",
       "      <td>3 Ton 230 Kg</td>\n",
       "      <td>Jan 09 2009</td>\n",
       "      <td>H</td>\n",
       "      <td>advanced</td>\n",
       "      <td>M14136</td>\n",
       "      <td>IN732116,IN732117,IN732118,IN732119,IN732120</td>\n",
       "      <td>2.51 meters</td>\n",
       "      <td>104 cm</td>\n",
       "      <td>27 cm</td>\n",
       "      <td>2009</td>\n",
       "    </tr>\n",
       "    <tr>\n",
       "      <th>20</th>\n",
       "      <td>$135k</td>\n",
       "      <td>$437,664</td>\n",
       "      <td>3 Ton 90 Kg</td>\n",
       "      <td>Dec 28 2012</td>\n",
       "      <td>D,A</td>\n",
       "      <td>super advanced</td>\n",
       "      <td>M14137</td>\n",
       "      <td>IN732121,IN732122,IN732123,IN732124,IN732125,I...</td>\n",
       "      <td>2.05 meters</td>\n",
       "      <td>113 cm</td>\n",
       "      <td>30 cm</td>\n",
       "      <td>2012</td>\n",
       "    </tr>\n",
       "    <tr>\n",
       "      <th>21</th>\n",
       "      <td>$44k</td>\n",
       "      <td>$83,402</td>\n",
       "      <td>2 Ton 930 Kg</td>\n",
       "      <td>Dec 13 2013</td>\n",
       "      <td>D</td>\n",
       "      <td>super advanced</td>\n",
       "      <td>M14138,M14139</td>\n",
       "      <td>IN732131,IN732132,IN732133</td>\n",
       "      <td>2.62 meters</td>\n",
       "      <td>97 cm</td>\n",
       "      <td>26 cm</td>\n",
       "      <td>2013</td>\n",
       "    </tr>\n",
       "  </tbody>\n",
       "</table>\n",
       "</div>"
      ],
      "text/plain": [
       "     cost     price        weight purchase_date product_type   product_level  \\\n",
       "0   $333k  $300,492   3 Ton 90 Kg   Dec 19 2008          Q,B        advanced   \n",
       "1     NaN  $430,570   3 Ton 30 Kg   Sep 10 1997          J,D           basic   \n",
       "2   $270k  $213,070   3 Ton 40 Kg   Sep 05 2001          J,D           basic   \n",
       "4    $97k  $122,659  2 Ton 970 Kg   Jan 12 2000          D,R        advanced   \n",
       "5    $59k   $60,320  2 Ton 930 Kg   Aug 19 2011            H  super advanced   \n",
       "6     NaN  $182,233  3 Ton 300 Kg   Oct 11 1996            S  super advanced   \n",
       "7     NaN   $41,155   3 Ton 80 Kg   Jan 08 2010          B,A        advanced   \n",
       "8    $66k  $180,759  3 Ton 330 Kg   Aug 01 2014            H  super advanced   \n",
       "9   $119k  $182,517  2 Ton 970 Kg   Feb 04 2005          K,D        advanced   \n",
       "11   $81k  $228,868  2 Ton 940 Kg   Apr 04 2008            N        advanced   \n",
       "12  $191k   $79,384  3 Ton 200 Kg   Dec 21 2001            U  super advanced   \n",
       "13    NaN  $118,628   3 Ton 50 Kg   Dec 15 2006          U,A        advanced   \n",
       "14    NaN  $204,305   3 Ton 20 Kg   Jan 29 2010          K,D        advanced   \n",
       "15    NaN   $20,711  3 Ton 190 Kg   May 13 1998            H  super advanced   \n",
       "16   $22k   $24,246   3 Ton 10 Kg   Dec 10 1999            D  super advanced   \n",
       "17  $631k  $524,575  3 Ton 580 Kg   Aug 27 2010          H,A        advanced   \n",
       "18    NaN  $107,802  2 Ton 890 Kg   Apr 26 2013            G    intermediate   \n",
       "19  $113k  $257,688  3 Ton 230 Kg   Jan 09 2009            H        advanced   \n",
       "20  $135k  $437,664   3 Ton 90 Kg   Dec 28 2012          D,A  super advanced   \n",
       "21   $44k   $83,402  2 Ton 930 Kg   Dec 13 2013            D  super advanced   \n",
       "\n",
       "            maker                                         ingredient  \\\n",
       "0          M14122                                  IN732052,IN732053   \n",
       "1             NaN       IN732054,IN732055,IN732056,IN732057,IN732058   \n",
       "2             NaN                         IN732054,IN732059,IN732060   \n",
       "4             NaN                         IN732064,IN732065,IN732066   \n",
       "5          M14124  IN732067,IN732068,IN732069,IN732070,IN732071,I...   \n",
       "6          M14125                                  IN732073,IN732074   \n",
       "7          M14126                                           IN732075   \n",
       "8             NaN  IN732076,IN732077,IN732073,IN732078,IN732079,I...   \n",
       "9          M14127                         IN732085,IN732086,IN732087   \n",
       "11         M14129                IN732093,IN732094,IN732095,IN732096   \n",
       "12         M14130       IN732097,IN732098,IN732099,IN732100,IN732101   \n",
       "13         M14131                                  IN732074,IN732102   \n",
       "14         M14132                IN732103,IN732104,IN732105,IN732106   \n",
       "15         M14133                                           IN732094   \n",
       "16            NaN       IN732107,IN732108,IN732109,IN732110,IN732111   \n",
       "17         M14122  IN732076,IN732093,IN732112,IN732113,IN732114,I...   \n",
       "18  M14134,M14135                                                NaN   \n",
       "19         M14136       IN732116,IN732117,IN732118,IN732119,IN732120   \n",
       "20         M14137  IN732121,IN732122,IN732123,IN732124,IN732125,I...   \n",
       "21  M14138,M14139                         IN732131,IN732132,IN732133   \n",
       "\n",
       "         height   width  depth  year  \n",
       "0   2.76 meters   97 cm  26 cm  2008  \n",
       "1   2.67 meters   98 cm  26 cm  1997  \n",
       "2    3.0 meters   93 cm  24 cm  2001  \n",
       "4   2.47 meters  101 cm  26 cm  2000  \n",
       "5   2.71 meters   96 cm  25 cm  2011  \n",
       "6   3.01 meters   96 cm  25 cm  1996  \n",
       "7   2.97 meters   94 cm  25 cm  2010  \n",
       "8   2.71 meters  102 cm  27 cm  2014  \n",
       "9   2.84 meters   94 cm  25 cm  2005  \n",
       "11  2.52 meters   99 cm  26 cm  2008  \n",
       "12  2.87 meters   97 cm  25 cm  2001  \n",
       "13  2.63 meters   99 cm  26 cm  2006  \n",
       "14  2.54 meters  100 cm  26 cm  2010  \n",
       "15  2.96 meters   96 cm  25 cm  1998  \n",
       "16  2.55 meters  100 cm  26 cm  1999  \n",
       "17  2.87 meters  103 cm  27 cm  2010  \n",
       "18  2.13 meters  107 cm  28 cm  2013  \n",
       "19  2.51 meters  104 cm  27 cm  2009  \n",
       "20  2.05 meters  113 cm  30 cm  2012  \n",
       "21  2.62 meters   97 cm  26 cm  2013  "
      ]
     },
     "execution_count": 14,
     "metadata": {},
     "output_type": "execute_result"
    }
   ],
   "source": [
    "train_raw.head(20)"
   ]
  },
  {
   "cell_type": "markdown",
   "metadata": {},
   "source": [
    "# 1. Generate Targets"
   ]
  },
  {
   "cell_type": "markdown",
   "metadata": {},
   "source": [
    "<font color='red'>Assignment:</font> We define a categorical target **luxury**. If **price** is higher than 500k dollars, we say this item is a **luxury**, and use integer 1 to mark it as positive. Otherwise, we use 0 to mark it as negative. Get the target Series for training and testing data sets (**y_train** and **y_test**), respectively."
   ]
  },
  {
   "cell_type": "code",
   "execution_count": 52,
   "metadata": {},
   "outputs": [],
   "source": [
    "y_train = train_raw['price'].map(lambda x: float(x.strip('$').replace(',',''))).map(lambda x: 1 if x > 500000 else 0)\n",
    "y_test = test_raw['price'].map(lambda x: float(x.strip('$').replace(',',''))).map(lambda x: 1 if x > 500000 else 0)"
   ]
  },
  {
   "cell_type": "code",
   "execution_count": 54,
   "metadata": {},
   "outputs": [
    {
     "data": {
      "text/plain": [
       "0     0\n",
       "1     0\n",
       "2     0\n",
       "4     0\n",
       "5     0\n",
       "6     0\n",
       "7     0\n",
       "8     0\n",
       "9     0\n",
       "11    0\n",
       "12    0\n",
       "13    0\n",
       "14    0\n",
       "15    0\n",
       "16    0\n",
       "17    1\n",
       "18    0\n",
       "19    0\n",
       "20    0\n",
       "21    0\n",
       "Name: price, dtype: int64"
      ]
     },
     "execution_count": 54,
     "metadata": {},
     "output_type": "execute_result"
    }
   ],
   "source": [
    "y_train.head(20)"
   ]
  },
  {
   "cell_type": "markdown",
   "metadata": {},
   "source": [
    "<font color='red'>Assignment:</font> Visualize the comparison between the numbers of positive and negative data points. **Hint:** You could use either bar chart or pie chart."
   ]
  },
  {
   "cell_type": "code",
   "execution_count": 55,
   "metadata": {},
   "outputs": [
    {
     "data": {
      "text/plain": [
       "<AxesSubplot:title={'center':'y_train'}, ylabel='price'>"
      ]
     },
     "execution_count": 55,
     "metadata": {},
     "output_type": "execute_result"
    },
    {
     "data": {
      "image/png": "[encoded data removed]",
      "text/plain": [
       "<Figure size 640x480 with 1 Axes>"
      ]
     },
     "metadata": {},
     "output_type": "display_data"
    }
   ],
   "source": [
    "import pandas as pd\n",
    "%matplotlib inline \n",
    "\n",
    "y_train.value_counts().plot(kind='pie',title='y_train')"
   ]
  },
  {
   "cell_type": "code",
   "execution_count": 56,
   "metadata": {},
   "outputs": [
    {
     "data": {
      "text/plain": [
       "<AxesSubplot:title={'center':'y_test'}, ylabel='price'>"
      ]
     },
     "execution_count": 56,
     "metadata": {},
     "output_type": "execute_result"
    },
    {
     "data": {
      "image/png": "[encoded data removed]",
      "text/plain": [
       "<Figure size 640x480 with 1 Axes>"
      ]
     },
     "metadata": {},
     "output_type": "display_data"
    }
   ],
   "source": [
    "y_test.value_counts().plot(kind='pie',title='y_test')"
   ]
  },
  {
   "cell_type": "markdown",
   "metadata": {},
   "source": [
    "<font color='red'>Question:</font> What is the definition of base rate?"
   ]
  },
  {
   "cell_type": "code",
   "execution_count": null,
   "metadata": {},
   "outputs": [],
   "source": [
    "# Base rate refers to the prevalence of an event within a given population."
   ]
  },
  {
   "cell_type": "markdown",
   "metadata": {},
   "source": [
    "<font color='red'>Question:</font> What is the base rate in this case?"
   ]
  },
  {
   "cell_type": "code",
   "execution_count": 57,
   "metadata": {},
   "outputs": [
    {
     "data": {
      "text/plain": [
       "0.06673920928545521"
      ]
     },
     "execution_count": 57,
     "metadata": {},
     "output_type": "execute_result"
    }
   ],
   "source": [
    "y_train.sum() / y_train.count()"
   ]
  },
  {
   "cell_type": "code",
   "execution_count": 58,
   "metadata": {},
   "outputs": [
    {
     "data": {
      "text/plain": [
       "0.10722610722610723"
      ]
     },
     "execution_count": 58,
     "metadata": {},
     "output_type": "execute_result"
    }
   ],
   "source": [
    "y_test.sum() / y_test.count()"
   ]
  },
  {
   "cell_type": "code",
   "execution_count": null,
   "metadata": {},
   "outputs": [],
   "source": [
    "#The base rate of the train data is 0.067 and that of the test data is 0.107"
   ]
  },
  {
   "cell_type": "markdown",
   "metadata": {},
   "source": [
    "# 2. Simplest Models"
   ]
  },
  {
   "cell_type": "markdown",
   "metadata": {},
   "source": [
    "## 2.1 All Negative Model"
   ]
  },
  {
   "cell_type": "markdown",
   "metadata": {},
   "source": [
    "### 2.1.1 Model Building"
   ]
  },
  {
   "cell_type": "markdown",
   "metadata": {},
   "source": [
    "<font color='red'>Assignment:</font> Build a model which always predicts 0."
   ]
  },
  {
   "cell_type": "code",
   "execution_count": 59,
   "metadata": {},
   "outputs": [],
   "source": [
    "class all_negative(object):\n",
    "    \n",
    "    def fit(self, X_train):\n",
    "        pass\n",
    "        \n",
    "    def predict(self, X_train):\n",
    "        length = len(X_train)\n",
    "        return pd.Series([0]*length)"
   ]
  },
  {
   "cell_type": "markdown",
   "metadata": {},
   "source": [
    "<font color='red'>Assignment:</font> Make predictions for both training and testing data."
   ]
  },
  {
   "cell_type": "code",
   "execution_count": 60,
   "metadata": {},
   "outputs": [],
   "source": [
    "anm = all_negative()\n",
    "\n",
    "anm.fit(train_raw)\n",
    "y_train_pred = anm.predict(train_raw)\n",
    "y_test_pred = anm.predict(test_raw)"
   ]
  },
  {
   "cell_type": "markdown",
   "metadata": {},
   "source": [
    "### 2.1.2 Accuracy"
   ]
  },
  {
   "cell_type": "markdown",
   "metadata": {},
   "source": [
    "<font color='red'>Assignment:</font> Calculate the training and testing **accuracy_score**s."
   ]
  },
  {
   "cell_type": "code",
   "execution_count": 61,
   "metadata": {},
   "outputs": [
    {
     "name": "stdout",
     "output_type": "stream",
     "text": [
      "train accuracy: 9.33e-01\n",
      "test accuracy: 8.93e-01\n"
     ]
    }
   ],
   "source": [
    "train_accuracy = sum(y_train_pred.values == y_train.values) / len(y_train)\n",
    "test_accuracy = sum(y_test_pred.values == y_test.values) / len(y_test)\n",
    "\n",
    "print('train accuracy: {0:.2e}'.format(train_accuracy))\n",
    "print('test accuracy: {0:.2e}'.format(test_accuracy))"
   ]
  },
  {
   "cell_type": "markdown",
   "metadata": {},
   "source": [
    "<font color='red'>Question:</font> How is accuracy score calculated?"
   ]
  },
  {
   "cell_type": "code",
   "execution_count": null,
   "metadata": {},
   "outputs": [],
   "source": [
    "# Accuracy score is calculated as the counts of correct predicted event devided by total counts of all events."
   ]
  },
  {
   "cell_type": "markdown",
   "metadata": {},
   "source": [
    "<font color='red'>Question:</font> Are the accuracy scores good? Why is that? Is the model useful?"
   ]
  },
  {
   "cell_type": "code",
   "execution_count": null,
   "metadata": {},
   "outputs": [],
   "source": [
    "# The accuracy scores look good but they are misleding. The socre is good because the base rate is low.\n",
    "# However, the model does not provide any useful insight of how the positive events are related to the indepedent variables."
   ]
  },
  {
   "cell_type": "markdown",
   "metadata": {},
   "source": [
    "<font color='red'>Question:</font> How is accuracy score related to base rate?"
   ]
  },
  {
   "cell_type": "code",
   "execution_count": null,
   "metadata": {},
   "outputs": [],
   "source": [
    "# In binary classification, accuracy score might be biased (extremly high or low) if the base rate is deviated from 0.5."
   ]
  },
  {
   "cell_type": "markdown",
   "metadata": {},
   "source": [
    "### 2.1.2 Precision"
   ]
  },
  {
   "cell_type": "markdown",
   "metadata": {},
   "source": [
    "<font color='red'>Assignment:</font> Calculate the training and testing **precision_score**s."
   ]
  },
  {
   "cell_type": "code",
   "execution_count": null,
   "metadata": {},
   "outputs": [],
   "source": [
    "# The result is 0/0 for a all negative model."
   ]
  },
  {
   "cell_type": "code",
   "execution_count": 64,
   "metadata": {},
   "outputs": [],
   "source": [
    "train_cnt_tp = sum((y_train_pred.values == 1) & (y_train.values == 1))\n",
    "train_cnt_fp = sum((y_train_pred.values == 1) & (y_train.values == 0))\n",
    "train_cnt_tn = sum((y_train_pred.values == 0) & (y_train.values == 0))\n",
    "train_cnt_fn = sum((y_train_pred.values == 0) & (y_train.values == 1))"
   ]
  },
  {
   "cell_type": "code",
   "execution_count": 65,
   "metadata": {},
   "outputs": [
    {
     "name": "stdout",
     "output_type": "stream",
     "text": [
      "0\n",
      "0\n",
      "2573\n",
      "184\n"
     ]
    }
   ],
   "source": [
    "print(train_cnt_tp)\n",
    "print(train_cnt_fp)\n",
    "print(train_cnt_tn)\n",
    "print(train_cnt_fn)\n"
   ]
  },
  {
   "cell_type": "code",
   "execution_count": 66,
   "metadata": {},
   "outputs": [],
   "source": [
    "test_cnt_tp = sum((y_test_pred.values == 1) & (y_test.values == 1))\n",
    "test_cnt_fp = sum((y_test_pred.values == 1) & (y_test.values == 0))\n",
    "test_cnt_tn = sum((y_test_pred.values == 0) & (y_test.values == 0))\n",
    "test_cnt_fn = sum((y_test_pred.values == 0) & (y_test.values == 1))"
   ]
  },
  {
   "cell_type": "code",
   "execution_count": 67,
   "metadata": {},
   "outputs": [
    {
     "name": "stderr",
     "output_type": "stream",
     "text": [
      "C:\\Users\\liyuh\\AppData\\Local\\Temp\\ipykernel_5588\\2729883647.py:1: RuntimeWarning: invalid value encountered in long_scalars\n",
      "  train_precision = train_cnt_tp / (train_cnt_tp + train_cnt_fp)\n",
      "C:\\Users\\liyuh\\AppData\\Local\\Temp\\ipykernel_5588\\2729883647.py:2: RuntimeWarning: invalid value encountered in long_scalars\n",
      "  test_precision = test_cnt_tp / (test_cnt_tp + test_cnt_fp)\n"
     ]
    }
   ],
   "source": [
    "train_precision = train_cnt_tp / (train_cnt_tp + train_cnt_fp)\n",
    "test_precision = test_cnt_tp / (test_cnt_tp + test_cnt_fp)\n"
   ]
  },
  {
   "cell_type": "markdown",
   "metadata": {},
   "source": [
    "<font color='red'>Question:</font> How is **precision_score** calculated?"
   ]
  },
  {
   "cell_type": "code",
   "execution_count": null,
   "metadata": {},
   "outputs": [],
   "source": [
    "# precision = True_positive / (Ture_positive + False_positive)"
   ]
  },
  {
   "cell_type": "markdown",
   "metadata": {},
   "source": [
    "<font color='red'>Question:</font> If the **precision_score** for a model is 80%, what does it mean?"
   ]
  },
  {
   "cell_type": "code",
   "execution_count": null,
   "metadata": {},
   "outputs": [],
   "source": [
    "# It means for all the preditiions that states positive, 80% is right (indeed positive) while 20% is wrong (actually negative)."
   ]
  },
  {
   "cell_type": "markdown",
   "metadata": {},
   "source": [
    "### 2.1.3 Recall"
   ]
  },
  {
   "cell_type": "markdown",
   "metadata": {},
   "source": [
    "<font color='red'>Assignment:</font> Calculate the training and testing **recall_score**s."
   ]
  },
  {
   "cell_type": "code",
   "execution_count": 68,
   "metadata": {},
   "outputs": [],
   "source": [
    "train_recall = train_cnt_tp / (train_cnt_tp + train_cnt_fn)\n",
    "test_recall = test_cnt_tp / (test_cnt_tp + test_cnt_fn)"
   ]
  },
  {
   "cell_type": "code",
   "execution_count": 69,
   "metadata": {},
   "outputs": [
    {
     "name": "stdout",
     "output_type": "stream",
     "text": [
      "train recall: 0.00e+00\n",
      "test recall: 0.00e+00\n"
     ]
    }
   ],
   "source": [
    "print('train recall: {0:.2e}'.format(train_recall))\n",
    "print('test recall: {0:.2e}'.format(test_recall))"
   ]
  },
  {
   "cell_type": "markdown",
   "metadata": {},
   "source": [
    "<font color='red'>Question:</font> How is **recall_score** calculated?"
   ]
  },
  {
   "cell_type": "code",
   "execution_count": null,
   "metadata": {},
   "outputs": [],
   "source": [
    "# recall = Ture_positive / (Ture_positive + False_negative)"
   ]
  },
  {
   "cell_type": "markdown",
   "metadata": {},
   "source": [
    "<font color='red'>Question:</font> If the **recall_score** for a model is 80%, what does it mean?"
   ]
  },
  {
   "cell_type": "code",
   "execution_count": null,
   "metadata": {},
   "outputs": [],
   "source": [
    "# It means for all predictions that are made upon the positive events, 80% is right."
   ]
  },
  {
   "cell_type": "markdown",
   "metadata": {},
   "source": [
    "### 2.1.4 F1 Score"
   ]
  },
  {
   "cell_type": "markdown",
   "metadata": {},
   "source": [
    "<font color='red'>Assignment:</font> Calculate the training and testing **f1_score**s."
   ]
  },
  {
   "cell_type": "code",
   "execution_count": 70,
   "metadata": {},
   "outputs": [],
   "source": [
    "train_f1 = (2 * train_precision * train_recall) / (train_precision + train_recall)\n",
    "test_f1 = (2 * test_precision * test_recall) / (test_precision + test_recall)"
   ]
  },
  {
   "cell_type": "code",
   "execution_count": 71,
   "metadata": {},
   "outputs": [
    {
     "name": "stdout",
     "output_type": "stream",
     "text": [
      "train f1: nan\n",
      "test f1: nan\n"
     ]
    }
   ],
   "source": [
    "print('train f1: {0:.2e}'.format(train_f1))\n",
    "print('test f1: {0:.2e}'.format(test_f1))"
   ]
  },
  {
   "cell_type": "markdown",
   "metadata": {},
   "source": [
    "<font color='red'>Question:</font> How is **f1_score** calculated?"
   ]
  },
  {
   "cell_type": "code",
   "execution_count": null,
   "metadata": {},
   "outputs": [],
   "source": [
    "f1 = (2 * precision * recall) / (precision + recall)"
   ]
  },
  {
   "cell_type": "markdown",
   "metadata": {},
   "source": [
    "<font color='red'>Question:</font> Why do we need **f1_score**?"
   ]
  },
  {
   "cell_type": "code",
   "execution_count": null,
   "metadata": {},
   "outputs": [],
   "source": [
    "# While train a model in unbalanced data set, precision focuses on minimizing the false positive , while recall focuses \n",
    "# on minimizing the false negative. The f1 score combines the two and is the most often used in learning from unbalance data."
   ]
  },
  {
   "cell_type": "markdown",
   "metadata": {},
   "source": [
    "### 2.1.5 Classification Report"
   ]
  },
  {
   "cell_type": "markdown",
   "metadata": {},
   "source": [
    "<font color='red'>Assignment:</font> Use **classification_report** to get systematic idea about model performance."
   ]
  },
  {
   "cell_type": "code",
   "execution_count": 72,
   "metadata": {},
   "outputs": [
    {
     "name": "stdout",
     "output_type": "stream",
     "text": [
      "Train report\n",
      "              precision    recall  f1-score   support\n",
      "\n",
      "    negative       0.93      1.00      0.97      2573\n",
      "    positive       0.00      0.00      0.00       184\n",
      "\n",
      "    accuracy                           0.93      2757\n",
      "   macro avg       0.47      0.50      0.48      2757\n",
      "weighted avg       0.87      0.93      0.90      2757\n",
      "\n"
     ]
    },
    {
     "name": "stderr",
     "output_type": "stream",
     "text": [
      "C:\\Users\\liyuh\\anaconda3\\lib\\site-packages\\sklearn\\metrics\\_classification.py:1318: UndefinedMetricWarning: Precision and F-score are ill-defined and being set to 0.0 in labels with no predicted samples. Use `zero_division` parameter to control this behavior.\n",
      "  _warn_prf(average, modifier, msg_start, len(result))\n",
      "C:\\Users\\liyuh\\anaconda3\\lib\\site-packages\\sklearn\\metrics\\_classification.py:1318: UndefinedMetricWarning: Precision and F-score are ill-defined and being set to 0.0 in labels with no predicted samples. Use `zero_division` parameter to control this behavior.\n",
      "  _warn_prf(average, modifier, msg_start, len(result))\n",
      "C:\\Users\\liyuh\\anaconda3\\lib\\site-packages\\sklearn\\metrics\\_classification.py:1318: UndefinedMetricWarning: Precision and F-score are ill-defined and being set to 0.0 in labels with no predicted samples. Use `zero_division` parameter to control this behavior.\n",
      "  _warn_prf(average, modifier, msg_start, len(result))\n"
     ]
    }
   ],
   "source": [
    "from sklearn.metrics import classification_report\n",
    "\n",
    "target_names = ['negative', 'positive']\n",
    "print('Train report')\n",
    "print(classification_report(y_train, y_train_pred, target_names=target_names))"
   ]
  },
  {
   "cell_type": "code",
   "execution_count": 73,
   "metadata": {},
   "outputs": [
    {
     "name": "stdout",
     "output_type": "stream",
     "text": [
      "Test report\n",
      "              precision    recall  f1-score   support\n",
      "\n",
      "    negative       0.89      1.00      0.94       383\n",
      "    positive       0.00      0.00      0.00        46\n",
      "\n",
      "    accuracy                           0.89       429\n",
      "   macro avg       0.45      0.50      0.47       429\n",
      "weighted avg       0.80      0.89      0.84       429\n",
      "\n"
     ]
    },
    {
     "name": "stderr",
     "output_type": "stream",
     "text": [
      "C:\\Users\\liyuh\\anaconda3\\lib\\site-packages\\sklearn\\metrics\\_classification.py:1318: UndefinedMetricWarning: Precision and F-score are ill-defined and being set to 0.0 in labels with no predicted samples. Use `zero_division` parameter to control this behavior.\n",
      "  _warn_prf(average, modifier, msg_start, len(result))\n",
      "C:\\Users\\liyuh\\anaconda3\\lib\\site-packages\\sklearn\\metrics\\_classification.py:1318: UndefinedMetricWarning: Precision and F-score are ill-defined and being set to 0.0 in labels with no predicted samples. Use `zero_division` parameter to control this behavior.\n",
      "  _warn_prf(average, modifier, msg_start, len(result))\n",
      "C:\\Users\\liyuh\\anaconda3\\lib\\site-packages\\sklearn\\metrics\\_classification.py:1318: UndefinedMetricWarning: Precision and F-score are ill-defined and being set to 0.0 in labels with no predicted samples. Use `zero_division` parameter to control this behavior.\n",
      "  _warn_prf(average, modifier, msg_start, len(result))\n"
     ]
    }
   ],
   "source": [
    "\n",
    "print('Test report')\n",
    "print(classification_report(y_test, y_test_pred, target_names=target_names))"
   ]
  },
  {
   "cell_type": "markdown",
   "metadata": {},
   "source": [
    "### 2.1.6 Confusion Matrix"
   ]
  },
  {
   "cell_type": "markdown",
   "metadata": {},
   "source": [
    "<font color='red'>Assignment:</font> Get the **confusion_matrix** of the model."
   ]
  },
  {
   "cell_type": "code",
   "execution_count": 74,
   "metadata": {},
   "outputs": [
    {
     "name": "stdout",
     "output_type": "stream",
     "text": [
      "Train confusion matrix\n"
     ]
    },
    {
     "data": {
      "text/plain": [
       "array([[2573,    0],\n",
       "       [ 184,    0]], dtype=int64)"
      ]
     },
     "execution_count": 74,
     "metadata": {},
     "output_type": "execute_result"
    }
   ],
   "source": [
    "from sklearn.metrics import confusion_matrix\n",
    "\n",
    "print('Train confusion matrix')\n",
    "confusion_matrix(y_train, y_train_pred)"
   ]
  },
  {
   "cell_type": "code",
   "execution_count": 75,
   "metadata": {},
   "outputs": [
    {
     "name": "stdout",
     "output_type": "stream",
     "text": [
      "Test confusion matrix\n"
     ]
    },
    {
     "data": {
      "text/plain": [
       "array([[383,   0],\n",
       "       [ 46,   0]], dtype=int64)"
      ]
     },
     "execution_count": 75,
     "metadata": {},
     "output_type": "execute_result"
    }
   ],
   "source": [
    "print('Test confusion matrix')\n",
    "confusion_matrix(y_test, y_test_pred)"
   ]
  },
  {
   "cell_type": "markdown",
   "metadata": {},
   "source": [
    "<font color='red'>Question:</font> What does every element in the confusion matrix represent, respectively?"
   ]
  },
  {
   "cell_type": "code",
   "execution_count": null,
   "metadata": {},
   "outputs": [],
   "source": [
    "# Row i indicates that ground-truth is event i, column i indicates that the prediction is event i\n",
    "# so the element in row i column j shows the counts that event i is predicted as event j."
   ]
  },
  {
   "cell_type": "markdown",
   "metadata": {},
   "source": [
    "<font color='red'>Question:</font> How can you calculate recall and precision with a confusion matrix?"
   ]
  },
  {
   "cell_type": "code",
   "execution_count": null,
   "metadata": {},
   "outputs": [],
   "source": [
    "# recall(event = i) = array[i][i] / sum(array[i][:])\n",
    "# precision(event = i) = array[i][i] / sum(array[:][i])"
   ]
  },
  {
   "cell_type": "markdown",
   "metadata": {},
   "source": [
    "## 2.2 All Positive Model"
   ]
  },
  {
   "cell_type": "markdown",
   "metadata": {},
   "source": [
    "### 2.2.1 Model Building"
   ]
  },
  {
   "cell_type": "markdown",
   "metadata": {},
   "source": [
    "<font color='red'>Assignment:</font> Build a model which always predicts 1."
   ]
  },
  {
   "cell_type": "code",
   "execution_count": 76,
   "metadata": {},
   "outputs": [],
   "source": [
    "class all_positive(object):\n",
    "    \n",
    "    def fit(self, X_train):\n",
    "        pass\n",
    "        \n",
    "    def predict(self, X_train):\n",
    "        length = len(X_train)\n",
    "        return pd.Series([1]*length)"
   ]
  },
  {
   "cell_type": "markdown",
   "metadata": {},
   "source": [
    "<font color='red'>Assignment:</font> Make predictions for both training and testing data."
   ]
  },
  {
   "cell_type": "code",
   "execution_count": 77,
   "metadata": {},
   "outputs": [],
   "source": [
    "apm = all_positive()\n",
    "\n",
    "apm.fit(train_raw)\n",
    "y_train_pred = apm.predict(train_raw)\n",
    "y_test_pred = apm.predict(test_raw)"
   ]
  },
  {
   "cell_type": "markdown",
   "metadata": {},
   "source": [
    "### 2.2.2 Scores and confusion matrices"
   ]
  },
  {
   "cell_type": "markdown",
   "metadata": {},
   "source": [
    "<font color='red'>Assignment:</font> Calculate the scores and confusion matrices of this model."
   ]
  },
  {
   "cell_type": "code",
   "execution_count": 80,
   "metadata": {},
   "outputs": [
    {
     "name": "stdout",
     "output_type": "stream",
     "text": [
      "Train report\n",
      "              precision    recall  f1-score   support\n",
      "\n",
      "    negative       0.00      0.00      0.00      2573\n",
      "    positive       0.07      1.00      0.13       184\n",
      "\n",
      "    accuracy                           0.07      2757\n",
      "   macro avg       0.03      0.50      0.06      2757\n",
      "weighted avg       0.00      0.07      0.01      2757\n",
      "\n"
     ]
    },
    {
     "name": "stderr",
     "output_type": "stream",
     "text": [
      "C:\\Users\\liyuh\\anaconda3\\lib\\site-packages\\sklearn\\metrics\\_classification.py:1318: UndefinedMetricWarning: Precision and F-score are ill-defined and being set to 0.0 in labels with no predicted samples. Use `zero_division` parameter to control this behavior.\n",
      "  _warn_prf(average, modifier, msg_start, len(result))\n",
      "C:\\Users\\liyuh\\anaconda3\\lib\\site-packages\\sklearn\\metrics\\_classification.py:1318: UndefinedMetricWarning: Precision and F-score are ill-defined and being set to 0.0 in labels with no predicted samples. Use `zero_division` parameter to control this behavior.\n",
      "  _warn_prf(average, modifier, msg_start, len(result))\n",
      "C:\\Users\\liyuh\\anaconda3\\lib\\site-packages\\sklearn\\metrics\\_classification.py:1318: UndefinedMetricWarning: Precision and F-score are ill-defined and being set to 0.0 in labels with no predicted samples. Use `zero_division` parameter to control this behavior.\n",
      "  _warn_prf(average, modifier, msg_start, len(result))\n"
     ]
    }
   ],
   "source": [
    "print('Train report')\n",
    "print(classification_report(y_train, y_train_pred, target_names=target_names))"
   ]
  },
  {
   "cell_type": "code",
   "execution_count": 79,
   "metadata": {},
   "outputs": [
    {
     "name": "stdout",
     "output_type": "stream",
     "text": [
      "Train confusion matrix\n"
     ]
    },
    {
     "data": {
      "text/plain": [
       "array([[   0, 2573],\n",
       "       [   0,  184]], dtype=int64)"
      ]
     },
     "execution_count": 79,
     "metadata": {},
     "output_type": "execute_result"
    }
   ],
   "source": [
    "print('Train confusion matrix')\n",
    "confusion_matrix(y_train, y_train_pred)\n"
   ]
  },
  {
   "cell_type": "code",
   "execution_count": 81,
   "metadata": {},
   "outputs": [
    {
     "name": "stdout",
     "output_type": "stream",
     "text": [
      "Test report\n",
      "              precision    recall  f1-score   support\n",
      "\n",
      "    negative       0.00      0.00      0.00       383\n",
      "    positive       0.11      1.00      0.19        46\n",
      "\n",
      "    accuracy                           0.11       429\n",
      "   macro avg       0.05      0.50      0.10       429\n",
      "weighted avg       0.01      0.11      0.02       429\n",
      "\n"
     ]
    },
    {
     "name": "stderr",
     "output_type": "stream",
     "text": [
      "C:\\Users\\liyuh\\anaconda3\\lib\\site-packages\\sklearn\\metrics\\_classification.py:1318: UndefinedMetricWarning: Precision and F-score are ill-defined and being set to 0.0 in labels with no predicted samples. Use `zero_division` parameter to control this behavior.\n",
      "  _warn_prf(average, modifier, msg_start, len(result))\n",
      "C:\\Users\\liyuh\\anaconda3\\lib\\site-packages\\sklearn\\metrics\\_classification.py:1318: UndefinedMetricWarning: Precision and F-score are ill-defined and being set to 0.0 in labels with no predicted samples. Use `zero_division` parameter to control this behavior.\n",
      "  _warn_prf(average, modifier, msg_start, len(result))\n",
      "C:\\Users\\liyuh\\anaconda3\\lib\\site-packages\\sklearn\\metrics\\_classification.py:1318: UndefinedMetricWarning: Precision and F-score are ill-defined and being set to 0.0 in labels with no predicted samples. Use `zero_division` parameter to control this behavior.\n",
      "  _warn_prf(average, modifier, msg_start, len(result))\n"
     ]
    }
   ],
   "source": [
    "print('Test report')\n",
    "print(classification_report(y_test, y_test_pred, target_names=target_names))"
   ]
  },
  {
   "cell_type": "code",
   "execution_count": 82,
   "metadata": {},
   "outputs": [
    {
     "name": "stdout",
     "output_type": "stream",
     "text": [
      "Test confusion matrix\n"
     ]
    },
    {
     "data": {
      "text/plain": [
       "array([[  0, 383],\n",
       "       [  0,  46]], dtype=int64)"
      ]
     },
     "execution_count": 82,
     "metadata": {},
     "output_type": "execute_result"
    }
   ],
   "source": [
    "print('Test confusion matrix')\n",
    "confusion_matrix(y_test, y_test_pred)"
   ]
  },
  {
   "cell_type": "markdown",
   "metadata": {},
   "source": [
    "<font color='red'>Question:</font> What are the difference between all-positive and all-negative models?"
   ]
  },
  {
   "cell_type": "code",
   "execution_count": null,
   "metadata": {},
   "outputs": [],
   "source": [
    "# In our case, positive is the minor class, an all-positive model gives a high recall value (actually 1) and very low precision \n",
    "# value, and a low f1 value. And the all-negative model gives no information."
   ]
  }
 ],
 "metadata": {
  "kernelspec": {
   "display_name": "Python 3 (ipykernel)",
   "language": "python",
   "name": "python3"
  },
  "language_info": {
   "codemirror_mode": {
    "name": "ipython",
    "version": 3
   },
   "file_extension": ".py",
   "mimetype": "text/x-python",
   "name": "python",
   "nbconvert_exporter": "python",
   "pygments_lexer": "ipython3",
   "version": "3.9.13"
  }
 },
 "nbformat": 4,
 "nbformat_minor": 2
}
